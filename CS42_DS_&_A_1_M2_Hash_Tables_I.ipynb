{
  "nbformat": 4,
  "nbformat_minor": 0,
  "metadata": {
    "colab": {
      "name": "CS42: DS & A 1: M2: Hash Tables I",
      "provenance": [],
      "include_colab_link": true
    },
    "kernelspec": {
      "name": "python3",
      "display_name": "Python 3"
    },
    "language_info": {
      "name": "python"
    }
  },
  "cells": [
    {
      "cell_type": "markdown",
      "metadata": {
        "id": "view-in-github",
        "colab_type": "text"
      },
      "source": [
        "<a href=\"https://colab.research.google.com/github/juancaruizc/CS42-DS-A-1-M2-Hash-Tables-I/blob/main/CS42_DS_%26_A_1_M2_Hash_Tables_I.ipynb\" target=\"_parent\"><img src=\"https://colab.research.google.com/assets/colab-badge.svg\" alt=\"Open In Colab\"/></a>"
      ]
    },
    {
      "cell_type": "markdown",
      "metadata": {
        "id": "BvSp7clrAb7j"
      },
      "source": [
        "# Hash Tables\n",
        "\n",
        "**Attendance code: 4482**\n",
        "\n",
        "Arrays have O(1) data retrieval _if you have the index_.\n",
        "\n",
        "If you have to search for the data/index, arrays are O(n). That's a bummer.\n",
        "\n",
        "What if we had a magic function that would tell you the index for a given \"key\"?\n",
        "\n",
        "Store data as _key/value pairs_.\n",
        "\n",
        "With `dict`s:\n",
        "\n",
        "```\n",
        "d = {}\n",
        "\n",
        "d[\"key\"] = value\n",
        "```\n",
        "\n",
        "## Operations on Hash Tables\n",
        "\n",
        "* GET - retrieve a value from the table\n",
        "* PUT - store a value in the table\n",
        "* DELETE - delete a value from the table\n",
        "\n",
        "Should all be O(1) over the number of keys/values.\n",
        "\n",
        "## Structure\n",
        "\n",
        "We'll have an array to hold the data.\n",
        "\n",
        "Values will be at specific indexes in the array.\n",
        "\n",
        "We'll have something called a _hashing function_ that takes a key and turns it into an index. This tells us where to look in the array for the value.\n",
        "\n",
        "This function is _deterministic_, meaning that the same key will always produce the same index.\n",
        "\n",
        "## Operations Part II\n",
        "\n",
        "```\n",
        "GET(key):\n",
        "    index = hashing_function(key)\n",
        "    return table[index]\n",
        "```\n",
        "\n",
        "```\n",
        "PUT(key, value):\n",
        "    index = hashing_function(key)\n",
        "    table[index] = value\n",
        "```\n",
        "\n",
        "## Hashing Function\n",
        "\n",
        "Need some way to map from a string to a number. Preferable a unique-randomish number.\n",
        "\n",
        "\n"
      ]
    },
    {
      "cell_type": "code",
      "metadata": {
        "colab": {
          "base_uri": "https://localhost:8080/"
        },
        "id": "fn586e_F-QPc",
        "outputId": "6189917e-5694-4438-f32b-fe2396a5debc"
      },
      "source": [
        "d = {}\n",
        "\n",
        "d[\"goatcount\"] = 9\n",
        "\n",
        "d[\"key\"] = 'value'\n",
        "\n",
        "print(d)\n",
        "\n",
        "print(d[\"key\"])   # should print 'value', should also take O(1) time over the number of keys"
      ],
      "execution_count": null,
      "outputs": [
        {
          "output_type": "stream",
          "text": [
            "{'goatcount': 9, 'key': 'value'}\n",
            "value\n"
          ],
          "name": "stdout"
        }
      ]
    },
    {
      "cell_type": "code",
      "metadata": {
        "colab": {
          "base_uri": "https://localhost:8080/",
          "height": 149
        },
        "id": "US6vl5oFFMqP",
        "outputId": "f2a7db4a-f9f2-4d8b-b692-285f93838ffb"
      },
      "source": [
        "class HashTable:\n",
        "\n",
        "    def __init__(self):\n",
        "        self.table = [None] * 8  # Build an array of 8 elements to hold values\n",
        "\n",
        "    def hashing_function(self, key):\n",
        "        \"\"\"\n",
        "        Naive hashing function\n",
        "\n",
        "        use a real one like DJB2 or FNV1\n",
        "        \"\"\"\n",
        "        bignum = \"\"\n",
        "\n",
        "        # O(n) over the length of the key\n",
        "        # O(1) over the number of values in the table\n",
        "        for c in key:\n",
        "            bignum += str(ord(c))\n",
        "    \n",
        "        bignum = int(bignum)\n",
        "    \n",
        "        return bignum % len(self.table)\n",
        "\n",
        "    def put(self, key, value):\n",
        "        index = self.hashing_function(key)\n",
        "        print(index)\n",
        "        self.table[index] = value\n",
        "\n",
        "    def get(self, key):\n",
        "        index = self.hashing_function(key)\n",
        "        return self.table[index]\n",
        "\n",
        "ht = HashTable()\n",
        "\n",
        "#print(ht.hashing_function(\"goatcount\"))\n",
        "#print(ht.hashing_function(\"hello, world\"))\n",
        "\n",
        "ht.put(\"goatcount\", 9)\n",
        "ht.put(\"hello!\", \"foo\")\n",
        "#ht.put(\"test\", \"bar\")  # Causes a collision with \"goatcount\"\n",
        "\n",
        "print(ht.table)\n",
        "\n",
        "print(f\"Value for goatcount: {ht.get('goatcount')}\")  # Print \"9\"\n",
        "print(f\"Value for hello!: {ht.get('hello!')}\")  # Print \"9\""
      ],
      "execution_count": null,
      "outputs": [
        {
          "output_type": "error",
          "ename": "SyntaxError",
          "evalue": "ignored",
          "traceback": [
            "\u001b[0;36m  File \u001b[0;32m\"<ipython-input-29-68c45f8ffde0>\"\u001b[0;36m, line \u001b[0;32m40\u001b[0m\n\u001b[0;31m    print(f\"Value for hello!: {ht.get('hello!')}\")  # Print \"9\"\u001b[0m\n\u001b[0m                                                               \n^\u001b[0m\n\u001b[0;31mSyntaxError\u001b[0m\u001b[0;31m:\u001b[0m EOF while scanning triple-quoted string literal\n"
          ]
        }
      ]
    },
    {
      "cell_type": "markdown",
      "metadata": {
        "id": "cAyaLIfhOZ4s"
      },
      "source": [
        "# Applications of Hash Tables\n",
        "\n",
        "Going to use `dict` for these.\n",
        "\n",
        "```\n",
        "d = {}\n",
        "\n",
        "# PUT\n",
        "d[\"key\"] = value\n",
        "\n",
        "# GET\n",
        "print(d[\"key\"])\n",
        "```\n",
        "\n",
        "## Counting Items\n",
        "\n"
      ]
    },
    {
      "cell_type": "code",
      "metadata": {
        "colab": {
          "base_uri": "https://localhost:8080/"
        },
        "id": "2VtAxsb0PAZa",
        "outputId": "d2cb7228-cb83-44c4-dcab-9d6e8f1ce4ef"
      },
      "source": [
        "#%%timeit\n",
        "\n",
        "a = [1,6,7,9,5,3,3,5,7,8,8,6,5,4,3,4,6,7,8,8,5,4,6,7,8,9,7] * 70\n",
        "\n",
        "def counter1(): # O(n^2)\n",
        "    for e in a:\n",
        "        count = 0\n",
        "    \n",
        "        for e2 in a:\n",
        "            if e == e2:\n",
        "                count += 1\n",
        "    \n",
        "        #print(e,count)\n",
        "\n",
        "def counter2(): # O(n)\n",
        "    count = {}\n",
        "\n",
        "    for e in a:\n",
        "        if e not in count:  # Finding key `in` dictionary is O(1)\n",
        "            count[e] = 0\n",
        "\n",
        "        count[e] += 1\n",
        "\n",
        "    print(count)\n",
        "\n",
        "counter2()"
      ],
      "execution_count": null,
      "outputs": [
        {
          "output_type": "stream",
          "text": [
            "{1: 70, 6: 280, 7: 350, 9: 140, 5: 280, 3: 210, 8: 350, 4: 210}\n"
          ],
          "name": "stdout"
        }
      ]
    },
    {
      "cell_type": "code",
      "metadata": {
        "colab": {
          "base_uri": "https://localhost:8080/"
        },
        "id": "Z5_AQGaTWjm_",
        "outputId": "4e150350-429d-49bc-f9a0-10064dd5ca4b"
      },
      "source": [
        "a = [1,6,7,9,5,3,3,5,7,8,8,6,5,4,3,4,6,7,8,8,5,4,6,7,8,9,7] * 70\n",
        "\n",
        "def counter2(): # O(n)\n",
        "    count = {}\n",
        "\n",
        "    for e in a:\n",
        "        if e not in count:  # Finding key `in` dictionary is O(1)\n",
        "            count[e] = 0\n",
        "\n",
        "        count[e] += \n",
        "1\n",
        "    # If you want to sort, first use dict.items()\n",
        "    print(count)\n",
        "\n",
        "    # sort by key\n",
        "    sorted_count = sorted(count.items())\n",
        "\n",
        "    print(list(count.items()))\n",
        "\n",
        "    for k, v in sorted_count:\n",
        "        print(f\"{k}: {v}\")\n",
        "\n",
        "    print(\"------------\")\n",
        "    # Sort by value\n",
        "    \"\"\"\n",
        "    def sort_by(e):\n",
        "        return e[1]\n",
        "\n",
        "    sorted_count = sorted(count.items(), key=sort_by)\n",
        "    \"\"\"\n",
        "    sorted_count = sorted(count.items(), key=lambda e: e[1])   # Same as above\n",
        "\n",
        "    for k, v in sorted_count:\n",
        "        print(f\"{v:>3}: {k}\")\n",
        "\n",
        "\n",
        "counter2()"
      ],
      "execution_count": null,
      "outputs": [
        {
          "output_type": "stream",
          "text": [
            "{1: 70, 6: 280, 7: 350, 9: 140, 5: 280, 3: 210, 8: 350, 4: 210}\n",
            "[(1, 70), (6, 280), (7, 350), (9, 140), (5, 280), (3, 210), (8, 350), (4, 210)]\n",
            "1: 70\n",
            "3: 210\n",
            "4: 210\n",
            "5: 280\n",
            "6: 280\n",
            "7: 350\n",
            "8: 350\n",
            "9: 140\n",
            "------------\n",
            " 70: 1\n",
            "140: 9\n",
            "210: 3\n",
            "210: 4\n",
            "280: 6\n",
            "280: 5\n",
            "350: 7\n",
            "350: 8\n"
          ],
          "name": "stdout"
        }
      ]
    },
    {
      "cell_type": "code",
      "metadata": {
        "colab": {
          "base_uri": "https://localhost:8080/"
        },
        "id": "Jfe-kJqZZTOD",
        "outputId": "a70e0280-922e-40e6-97b7-3822aa600aa8"
      },
      "source": [
        "d = {}\n",
        "\n",
        "d[\"hi\"] = 12\n",
        "d[\"hi\"] = 22\n",
        "\n",
        "print(d[\"hi\"])"
      ],
      "execution_count": null,
      "outputs": [
        {
          "output_type": "stream",
          "text": [
            "22\n"
          ],
          "name": "stdout"
        }
      ]
    }
  ]
}